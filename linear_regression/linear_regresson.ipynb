{
 "cells": [
  {
   "cell_type": "code",
   "execution_count": 4,
   "metadata": {},
   "outputs": [],
   "source": [
    "from sklearn.datasets import load_diabetes\n",
    "\n",
    "X, y = load_diabetes(return_X_y=True)\n",
    "print(\"X shape : \", X.shape)\n",
    "print(\"y shape : \", y.shape)"
   ]
  },
  {
   "cell_type": "code",
   "execution_count": 14,
   "metadata": {},
   "outputs": [
    {
     "name": "stdout",
     "output_type": "stream",
     "text": [
      "X_tr :  (353, 10)\n",
      "X_te :  (89, 10)\n",
      "y_tr :  (353,)\n",
      "y_te :  (89,)\n"
     ]
    }
   ],
   "source": [
    "from sklearn.model_selection import train_test_split\n",
    "X_tr, X_te, y_tr, y_te = train_test_split(X, y, test_size = 0.2, random_state=42)\n",
    "print(\"X_tr : \", X_tr.shape)\n",
    "print(\"X_te : \", X_te.shape)\n",
    "print(\"y_tr : \", y_tr.shape)\n",
    "print(\"y_te : \", y_te.shape)"
   ]
  },
  {
   "cell_type": "code",
   "execution_count": 15,
   "metadata": {},
   "outputs": [
    {
     "name": "stdout",
     "output_type": "stream",
     "text": [
      "mse:  2900.1936284934814\n",
      "rmse:  53.85344583676593\n",
      "mae:  42.79409467959994\n",
      "r2:  0.4526027629719195\n"
     ]
    }
   ],
   "source": [
    "from sklearn.linear_model import LinearRegression\n",
    "from sklearn.metrics import mean_squared_error, mean_absolute_error, r2_score\n",
    "lr = LinearRegression().fit(X_tr,y_tr)\n",
    "pred = lr.predict(X_te)\n",
    "\n",
    "mse = mean_squared_error(y_te, pred)\n",
    "rmse = mse**0.5\n",
    "mae = mean_absolute_error(y_te, pred)\n",
    "r2 = r2_score(y_te, pred)\n",
    "print(\"mse: \", mse)\n",
    "print(\"rmse: \", rmse)\n",
    "print(\"mae: \", mae)\n",
    "print(\"r2: \", r2)"
   ]
  },
  {
   "cell_type": "markdown",
   "metadata": {},
   "source": [
    "# 1. 선형회귀분석(SKlearn)"
   ]
  },
  {
   "cell_type": "code",
   "execution_count": 19,
   "metadata": {},
   "outputs": [
    {
     "name": "stdout",
     "output_type": "stream",
     "text": [
      "RMSE=53.853  MAE=42.794  R2=0.453\n"
     ]
    }
   ],
   "source": [
    "from sklearn.datasets import load_diabetes\n",
    "from sklearn.model_selection import train_test_split\n",
    "from sklearn.linear_model import LinearRegression\n",
    "from sklearn.metrics import mean_squared_error, r2_score, mean_absolute_error\n",
    "from sklearn.preprocessing import StandardScaler\n",
    "import numpy as np\n",
    "\n",
    "X, y = load_diabetes(return_X_y=True)\n",
    "X_tr, X_te, y_tr, y_te = train_test_split(X, y, test_size=0.2, random_state=42)\n",
    "\n",
    "lr = LinearRegression().fit(X_tr, y_tr)\n",
    "pred = lr.predict(X_te)\n",
    "\n",
    "mse = mean_squared_error(y_te, pred)\n",
    "rmse = mse**0.5\n",
    "mae = mean_absolute_error(y_te, pred)\n",
    "r2 = r2_score(y_te, pred)\n",
    "\n",
    "print(f\"RMSE={rmse:.3f}  MAE={mae:.3f}  R2={r2:.3f}\")\n"
   ]
  },
  {
   "cell_type": "markdown",
   "metadata": {},
   "source": [
    "# 1-1. 선형회귀분석 성능 최적화(Advanced)"
   ]
  },
  {
   "cell_type": "code",
   "execution_count": 20,
   "metadata": {},
   "outputs": [
    {
     "name": "stdout",
     "output_type": "stream",
     "text": [
      "✅ 최적 alpha: 0.6952\n",
      "RMSE=53.795  MAE=42.808  R2=0.454\n"
     ]
    }
   ],
   "source": [
    "from sklearn.datasets import load_diabetes\n",
    "from sklearn.model_selection import train_test_split, GridSearchCV, KFold\n",
    "from sklearn.preprocessing import StandardScaler\n",
    "from sklearn.linear_model import Ridge\n",
    "from sklearn.metrics import mean_squared_error, mean_absolute_error, r2_score\n",
    "import numpy as np\n",
    "\n",
    "# 1️⃣ 데이터 로드\n",
    "X, y = load_diabetes(return_X_y=True)\n",
    "\n",
    "# 2️⃣ 데이터 분할\n",
    "X_tr, X_te, y_tr, y_te = train_test_split(X, y, test_size=0.2, random_state=42)\n",
    "\n",
    "# 3️⃣ 표준화 (정규화 필수)\n",
    "scaler = StandardScaler()\n",
    "X_tr = scaler.fit_transform(X_tr)\n",
    "X_te = scaler.transform(X_te)\n",
    "\n",
    "# 4️⃣ 모델 + 하이퍼파라미터 튜닝\n",
    "ridge = Ridge()\n",
    "param_grid = {'alpha': np.logspace(-3, 3, 20)}  # 0.001 ~ 1000 사이 로그스케일\n",
    "cv = KFold(n_splits=5, shuffle=True, random_state=42)\n",
    "\n",
    "grid = GridSearchCV(ridge, param_grid, scoring='r2', cv=cv, n_jobs=-1)\n",
    "grid.fit(X_tr, y_tr)\n",
    "\n",
    "best_model = grid.best_estimator_\n",
    "\n",
    "# 5️⃣ 예측 및 평가\n",
    "pred = best_model.predict(X_te)\n",
    "mse = mean_squared_error(y_te, pred)\n",
    "rmse = mse ** 0.5\n",
    "mae = mean_absolute_error(y_te, pred)\n",
    "r2 = r2_score(y_te, pred)\n",
    "\n",
    "# 6️⃣ 결과 출력\n",
    "print(f\"✅ 최적 alpha: {grid.best_params_['alpha']:.4f}\")\n",
    "print(f\"RMSE={rmse:.3f}  MAE={mae:.3f}  R2={r2:.3f}\")\n"
   ]
  },
  {
   "cell_type": "markdown",
   "metadata": {},
   "source": [
    "# 2. 선형회귀분석(numpy skratch)"
   ]
  },
  {
   "cell_type": "code",
   "execution_count": null,
   "metadata": {},
   "outputs": [],
   "source": [
    "import numpy as np\n",
    "from sklearn.datasets import load_diabetes\n",
    "\n",
    "# 1. 데이터 불러오기\n",
    "data = load_diabetes()\n",
    "X = data.data\n",
    "y = data.target\n",
    "\n",
    "# 2. 상수항(절편) 추가 (bias term)\n",
    "X = np.c_[np.ones(X.shape[0]), X]  # 첫 열에 1 추가\n",
    "\n",
    "# 3. 가중치(회귀계수) 계산 (Normal Equation)\n",
    "#    w = (X^T X)^(-1) X^T y\n",
    "w = np.linalg.inv(X.T @ X) @ X.T @ y\n",
    "\n",
    "# 4. 예측값 계산\n",
    "y_pred = X @ w\n",
    "\n",
    "# 5. 성능 평가 (MSE, R^2)\n",
    "mse = np.mean((y - y_pred) ** 2)\n",
    "r2 = 1 - np.sum((y - y_pred)**2) / np.sum((y - np.mean(y))**2)\n",
    "\n",
    "# 6. 결과 출력\n",
    "print(\"회귀계수 (w):\", w)\n",
    "print(\"MSE:\", mse)\n",
    "print(\"R^2 Score:\", r2)\n"
   ]
  },
  {
   "cell_type": "code",
   "execution_count": null,
   "metadata": {},
   "outputs": [],
   "source": []
  }
 ],
 "metadata": {
  "kernelspec": {
   "display_name": "Python 3",
   "language": "python",
   "name": "python3"
  },
  "language_info": {
   "codemirror_mode": {
    "name": "ipython",
    "version": 3
   },
   "file_extension": ".py",
   "mimetype": "text/x-python",
   "name": "python",
   "nbconvert_exporter": "python",
   "pygments_lexer": "ipython3",
   "version": "3.9.20"
  }
 },
 "nbformat": 4,
 "nbformat_minor": 2
}
